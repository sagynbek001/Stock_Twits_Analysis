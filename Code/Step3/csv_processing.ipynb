{
 "cells": [
  {
   "cell_type": "markdown",
   "metadata": {},
   "source": [
    "### Processing the files"
   ]
  },
  {
   "cell_type": "code",
   "execution_count": null,
   "metadata": {},
   "outputs": [],
   "source": [
    "import os\n",
    "import utils\n",
    "import pandas as pd\n",
    "import DB.db as db\n",
    "import prices\n",
    "from IPython.display import clear_output\n",
    "\n",
    "lastFiveYears = pd.to_datetime(\"2019-1-1\").date()\n",
    "files_processed = set()"
   ]
  },
  {
   "cell_type": "code",
   "execution_count": null,
   "metadata": {},
   "outputs": [],
   "source": [
    "folder_path = \"../../Data_Formatted/csv/\"\n",
    "files = os.listdir(folder_path)\n",
    "files.sort()\n",
    "files_count = len(files)\n",
    "\n",
    "files_processed_codes = [x[0] for x in db.getFilesTable()]\n",
    "for f in files_processed_codes:\n",
    "  files_processed.add(str(f) + '-1000.csv')\n",
    "for i in range(350000, len(files), 1):\n",
    "  files_processed.add(files[i])"
   ]
  },
  {
   "cell_type": "code",
   "execution_count": null,
   "metadata": {},
   "outputs": [],
   "source": [
    "stocks_set = set()\n",
    "crypts_set = set()\n",
    "\n",
    "def updateSets(df):\n",
    "  new_tickers = []\n",
    "  for symbs in df['symbols']:\n",
    "    for symb in symbs:\n",
    "      if '.' in symb:\n",
    "        continue\n",
    "      if 'USD' in symb:\n",
    "        if symb not in crypts_set:\n",
    "          new_tickers.append(symb)\n",
    "          crypts_set.add(symb)\n",
    "      else:\n",
    "        if symb not in stocks_set:\n",
    "          new_tickers.append(symb)\n",
    "          stocks_set.add(symb)\n",
    "\n",
    "  db.createStockPriceTables(new_tickers)\n",
    "  db.insertToStockPriceTables(new_tickers)\n",
    "\n",
    "def getAveragePriceForDate(ticker: str, date):\n",
    "  response = db.getPriceForDate(ticker, date)\n",
    "  if response == None or len(response) == 0:\n",
    "    return -1\n",
    "  return response[0][1]\n",
    "\n",
    "def getAveragePriceForWeek(ticker, initial_date, weekNumber):\n",
    "  current_date = (initial_date + pd.DateOffset(days = (weekNumber + 1) * 7)).date()\n",
    "  return getAveragePriceForDate(ticker, current_date)\n",
    "\n",
    "def user_exists(user_id: str):\n",
    "  response = db.selectAccuracy(str(user_id), \"accuracy_table\")\n",
    "  return response != None and len(response) > 0\n",
    "\n",
    "def processBatch(df):\n",
    "  def processSingleRow(rowNumber):\n",
    "    currentRow = df.iloc[rowNumber].tolist()\n",
    "    message_id = currentRow[0]\n",
    "    user_id = currentRow[1]\n",
    "    sentiment = currentRow[2]\n",
    "    symbs = currentRow[3]\n",
    "    initDate = currentRow[4]\n",
    "\n",
    "    accuracy_table, alpha_table, counts_table = [str(user_id)], [str(user_id)], [str(user_id)]\n",
    "    if user_exists(user_id):\n",
    "      accuracy_table = list(db.selectAccuracy(str(user_id), 'accuracy_table')[0])\n",
    "      alpha_table = list(db.selectAccuracy(str(user_id), 'alpha_table')[0])\n",
    "      counts_table = list(db.selectAccuracy(str(user_id), 'counts_table')[0])\n",
    "    else:\n",
    "      for i in range(50):\n",
    "        accuracy_table.append(0.0)\n",
    "        alpha_table.append(0.0)\n",
    "        counts_table.append(0)\n",
    "\n",
    "    process = True\n",
    "    for symb in symbs:\n",
    "      if '.' in symb:\n",
    "        continue\n",
    "      initialPrice = float(getAveragePriceForDate(symb, initDate))\n",
    "      if initialPrice == -1 or initialPrice == 0:\n",
    "        process = False\n",
    "        break\n",
    "      if (symb in prices.topcryptos or symb in prices.topstocks) and initDate > lastFiveYears:\n",
    "        db.insertIntoStockTable(symbs[0], str(message_id), str(user_id), str(sentiment), str(initDate))\n",
    "      lastNoResponse = []\n",
    "      for weekNumber in range(1, 51, 1):\n",
    "        averageForWeek = getAveragePriceForWeek(symb, initDate, weekNumber)\n",
    "        if averageForWeek == -1:\n",
    "          lastNoResponse.append(weekNumber)\n",
    "          if len(lastNoResponse) >= 2:\n",
    "            if lastNoResponse[-1] - lastNoResponse[-2] == 1:\n",
    "              break\n",
    "          continue\n",
    "        writtenAccuracyPoints = accuracy_table[weekNumber]\n",
    "        writtenAlphaPoints = alpha_table[weekNumber]\n",
    "        writtenCount = counts_table[weekNumber]\n",
    "\n",
    "        currentAlphaPoint = float(sentiment) * (averageForWeek - initialPrice) / initialPrice\n",
    "        currentAccuracyPoint = 1 if currentAlphaPoint > 0 else -1\n",
    "\n",
    "        summationForAccuracy = (writtenCount * writtenAccuracyPoints) + currentAccuracyPoint\n",
    "        summationForAlpha = (writtenCount * writtenAlphaPoints) + currentAlphaPoint\n",
    "\n",
    "        counts_table[weekNumber] += 1\n",
    "        accuracy_table[weekNumber] = summationForAccuracy / counts_table[weekNumber]\n",
    "        alpha_table[weekNumber] = summationForAlpha / counts_table[weekNumber]\n",
    "    \n",
    "    if process:\n",
    "      db.insert(accuracy_table, None, None)\n",
    "      db.insert(None, alpha_table, None)\n",
    "      db.insert(None, None, counts_table)\n",
    "\n",
    "  for i in range(len(df)):\n",
    "    processSingleRow(i)\n",
    "\n"
   ]
  },
  {
   "cell_type": "code",
   "execution_count": null,
   "metadata": {},
   "outputs": [],
   "source": [
    "folder_path = \"../../Data_Formatted/csv/\"\n",
    "files = os.listdir(folder_path)\n",
    "files.sort()\n",
    "files_count = len(files)\n",
    "\n",
    "df = utils.readData(folder_path + files[0])\n",
    "\n",
    "currentRow = df.iloc[0].tolist()\n",
    "message_id = currentRow[0]\n",
    "user_id = currentRow[1]\n",
    "sentiment = currentRow[2]\n",
    "symbs = currentRow[3]\n",
    "initDate = currentRow[4]\n"
   ]
  },
  {
   "cell_type": "code",
   "execution_count": null,
   "metadata": {},
   "outputs": [],
   "source": [
    "import concurrent.futures\n",
    "\n",
    "def worker(index):\n",
    "  if files[index] in files_processed:\n",
    "    return\n",
    "  files_processed.add(files[index])\n",
    "  df = utils.readData(folder_path + files[index])\n",
    "  if df.empty:\n",
    "    return\n",
    "  updateSets(df)\n",
    "  processBatch(df)\n",
    "  processed_message = \"Processed file: \" + str(index)\n",
    "  clear_output(wait=False)\n",
    "  print(processed_message)\n",
    "\n",
    "pool = concurrent.futures.ThreadPoolExecutor(max_workers=1000)\n",
    "\n",
    "for index in range(350000, 0, -1):\n",
    "  pool.submit(worker(index))\n",
    " \n",
    "pool.shutdown(wait=True)\n",
    " \n",
    "print(\"Main thread continuing to run\")"
   ]
  },
  {
   "cell_type": "code",
   "execution_count": null,
   "metadata": {},
   "outputs": [],
   "source": [
    "import DB.db as db\n",
    "import prices\n",
    "import pandas as pd"
   ]
  },
  {
   "cell_type": "code",
   "execution_count": null,
   "metadata": {},
   "outputs": [],
   "source": [
    "cryptos500 = list(prices.topcryptos)\n",
    "stocks500 = list(prices.topstocks)"
   ]
  },
  {
   "cell_type": "code",
   "execution_count": null,
   "metadata": {},
   "outputs": [],
   "source": [
    "print(db.getPriceForDate(stocks500[0], pd.to_datetime(\"28.01.2022\")))"
   ]
  },
  {
   "cell_type": "code",
   "execution_count": null,
   "metadata": {},
   "outputs": [],
   "source": [
    "toptickers = prices.topcryptos | prices.topstocks\n",
    "print(len(toptickers))"
   ]
  },
  {
   "cell_type": "code",
   "execution_count": null,
   "metadata": {},
   "outputs": [],
   "source": [
    "progressCounter = 0\n",
    "for ticker in toptickers:\n",
    "  db.dropStockPriceTable(ticker)\n",
    "  db.createStockPriceTables([ticker])\n",
    "  db.insertToStockPriceTables([ticker])\n",
    "  progressCounter += 1\n",
    "  print(progressCounter)"
   ]
  }
 ],
 "metadata": {
  "kernelspec": {
   "display_name": "Python 3",
   "language": "python",
   "name": "python3"
  },
  "language_info": {
   "codemirror_mode": {
    "name": "ipython",
    "version": 3
   },
   "file_extension": ".py",
   "mimetype": "text/x-python",
   "name": "python",
   "nbconvert_exporter": "python",
   "pygments_lexer": "ipython3",
   "version": "3.8.10"
  }
 },
 "nbformat": 4,
 "nbformat_minor": 2
}
