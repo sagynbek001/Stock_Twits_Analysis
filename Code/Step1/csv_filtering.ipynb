{
 "cells": [
  {
   "cell_type": "markdown",
   "metadata": {},
   "source": [
    "### Filtering the files\n",
    "#### Files from 1 January 2019\n"
   ]
  },
  {
   "cell_type": "code",
   "execution_count": 1,
   "metadata": {},
   "outputs": [
    {
     "name": "stdout",
     "output_type": "stream",
     "text": [
      "Processed: 555000/555117 Recent: 389189\n"
     ]
    }
   ],
   "source": [
    "import shutil\n",
    "import os\n",
    "import pandas as pd\n",
    "from IPython.display import clear_output\n",
    "\n",
    "original_folder_path = \"../Data_All/csv/\"\n",
    "destination_folder_path = \"../Data_Recent/csv/\"\n",
    "\n",
    "files = []\n",
    "files_recent = set()\n",
    "\n",
    "files = os.listdir(original_folder_path)\n",
    "files_count = len(files)\n",
    "\n",
    "processed_count = 0\n",
    "for file in files:\n",
    "    processed_count += 1\n",
    "    if processed_count % 1000 == 0:\n",
    "        process_message = \"Processed: \" + str(processed_count) + '/' + str(files_count)\n",
    "        files_recent_count_message = \"Recent: \" + str(len(files_recent))\n",
    "        clear_output(wait=False)\n",
    "        print(process_message + \" \" + files_recent_count_message)\n",
    "    if file in files_recent:\n",
    "        continue\n",
    "    if not file.endswith('.csv'):\n",
    "        continue\n",
    "    file_path = original_folder_path + file\n",
    "    df = pd.read_csv(file_path)\n",
    "    if ('created_at' not in df.columns) or len(df['created_at']) == 0:\n",
    "        continue\n",
    "    posted_time = pd.to_datetime(df['created_at'][0]).date()\n",
    "    threshold_time = pd.Timestamp(2019, 1, 1).date()\n",
    "    if  posted_time > threshold_time:\n",
    "        files_recent.add(file)\n"
   ]
  },
  {
   "cell_type": "code",
   "execution_count": 3,
   "metadata": {},
   "outputs": [
    {
     "name": "stdout",
     "output_type": "stream",
     "text": [
      "Moved: 380000/389272\n"
     ]
    }
   ],
   "source": [
    "moved_files_counter = 0\n",
    "files_recent_count = len(files_recent)\n",
    "\n",
    "print(\"Moving in process now!\")\n",
    "for file in files_recent:\n",
    "    shutil.copyfile(original_folder_path + file, destination_folder_path + file)\n",
    "    moved_files_counter += 1\n",
    "    if moved_files_counter % 10000 == 0:\n",
    "        clear_output(wait=False)\n",
    "        print(\"Moved: \" + str(moved_files_counter) + '/' + str(files_recent_count))"
   ]
  }
 ],
 "metadata": {
  "kernelspec": {
   "display_name": "Python 3",
   "language": "python",
   "name": "python3"
  },
  "language_info": {
   "codemirror_mode": {
    "name": "ipython",
    "version": 3
   },
   "file_extension": ".py",
   "mimetype": "text/x-python",
   "name": "python",
   "nbconvert_exporter": "python",
   "pygments_lexer": "ipython3",
   "version": "3.8.10"
  }
 },
 "nbformat": 4,
 "nbformat_minor": 2
}
