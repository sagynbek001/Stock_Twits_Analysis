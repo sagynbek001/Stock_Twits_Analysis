{
 "cells": [
  {
   "attachments": {},
   "cell_type": "markdown",
   "metadata": {},
   "source": [
    "## This note book is for packing the raw data from grabber to 200 csv files\n",
    "### with each 4000 raw files concated into 1 csv file"
   ]
  },
  {
   "cell_type": "code",
   "execution_count": 1,
   "metadata": {},
   "outputs": [],
   "source": [
    "import numpy as np\n",
    "import pandas as pd\n",
    "import os\n",
    "import glob\n",
    "import ast"
   ]
  },
  {
   "cell_type": "code",
   "execution_count": 2,
   "metadata": {},
   "outputs": [],
   "source": [
    "path = 'e:\\data-csv'\n",
    "all_files = glob.glob(path+'/*.csv')"
   ]
  },
  {
   "cell_type": "code",
   "execution_count": null,
   "metadata": {},
   "outputs": [],
   "source": [
    "## Use the following clean raw function to roughly cleaning the data when packing it, \n",
    "## It will remove the messages that have no sentiment lable, symbols and parent message id\n",
    "def clean_raw(df):\n",
    "    use = df.loc[(df['sentiment'].isna() == False) | (df['parent_message_id'].isna() == False)]\n",
    "    use1 = use.loc[use['sentiment'].isna()]\n",
    "    use2 = use.loc[use['sentiment'].isna() == False]\n",
    "    use2['sentiment'] = [eval(i)['basic'] for i in use2['sentiment']]\n",
    "    use = pd.concat([use1,use2])\n",
    "    use['symbol'] = [list(j['symbol'] for j in eval(i.replace('false',\"False\").replace('true',\"True\").replace('null','\"n\"'))) if i != '[]' else np.nan for i in use['symbols']]\n",
    "    return use.drop(columns = ['in_reply_to_message_id', 'symbols','prices'])"
   ]
  },
  {
   "cell_type": "code",
   "execution_count": 1,
   "metadata": {},
   "outputs": [],
   "source": [
    "pack,count,lis = 66,0,[]\n",
    "for i in all_files[260001:]:\n",
    "    sub = clean_raw(pd.read_csv(i))\n",
    "    count += 1\n",
    "    lis.append(sub)\n",
    "    if count % 4000 == 0:\n",
    "        use = pd.concat(lis)\n",
    "        use.to_csv(\"e:\\csv_clean_2\\pack_csv_\"+str(pack)+'.csv')\n",
    "        pack += 1\n",
    "        count,lis = 0,[]"
   ]
  },
  {
   "cell_type": "code",
   "execution_count": 60,
   "metadata": {},
   "outputs": [
    {
     "data": {
      "text/html": [
       "<div>\n",
       "<style scoped>\n",
       "    .dataframe tbody tr th:only-of-type {\n",
       "        vertical-align: middle;\n",
       "    }\n",
       "\n",
       "    .dataframe tbody tr th {\n",
       "        vertical-align: top;\n",
       "    }\n",
       "\n",
       "    .dataframe thead th {\n",
       "        text-align: right;\n",
       "    }\n",
       "</style>\n",
       "<table border=\"1\" class=\"dataframe\">\n",
       "  <thead>\n",
       "    <tr style=\"text-align: right;\">\n",
       "      <th></th>\n",
       "      <th>message_id</th>\n",
       "      <th>user_id</th>\n",
       "      <th>message_body</th>\n",
       "      <th>created_at</th>\n",
       "      <th>sentiment</th>\n",
       "      <th>parent_message_id</th>\n",
       "      <th>symbol</th>\n",
       "    </tr>\n",
       "  </thead>\n",
       "  <tbody>\n",
       "    <tr>\n",
       "      <th>0</th>\n",
       "      <td>100086000</td>\n",
       "      <td>950453</td>\n",
       "      <td>@SWEETHEART100 being a Debbie downer doesn’t d...</td>\n",
       "      <td>2017-11-03T16:06:33Z</td>\n",
       "      <td>NaN</td>\n",
       "      <td>100071614.0</td>\n",
       "      <td>NaN</td>\n",
       "    </tr>\n",
       "    <tr>\n",
       "      <th>1</th>\n",
       "      <td>100086001</td>\n",
       "      <td>457530</td>\n",
       "      <td>$UAA single digit written all over it.. Kevin ...</td>\n",
       "      <td>2017-11-03T16:06:33Z</td>\n",
       "      <td>NaN</td>\n",
       "      <td>100086001.0</td>\n",
       "      <td>[UAA]</td>\n",
       "    </tr>\n",
       "    <tr>\n",
       "      <th>2</th>\n",
       "      <td>100086002</td>\n",
       "      <td>629159</td>\n",
       "      <td>@Pbmdk @Tracker7 @SwingTradeToronto problem is...</td>\n",
       "      <td>2017-11-03T16:06:34Z</td>\n",
       "      <td>NaN</td>\n",
       "      <td>100075638.0</td>\n",
       "      <td>NaN</td>\n",
       "    </tr>\n",
       "    <tr>\n",
       "      <th>4</th>\n",
       "      <td>100086004</td>\n",
       "      <td>560905</td>\n",
       "      <td>@MARKET_ONLY_GOES_UP 10000 by end of the decade</td>\n",
       "      <td>2017-11-03T16:06:34Z</td>\n",
       "      <td>NaN</td>\n",
       "      <td>100083405.0</td>\n",
       "      <td>NaN</td>\n",
       "    </tr>\n",
       "    <tr>\n",
       "      <th>6</th>\n",
       "      <td>100086006</td>\n",
       "      <td>1157990</td>\n",
       "      <td>@esan1 @Market_is_in_the_bubble If someone did...</td>\n",
       "      <td>2017-11-03T16:06:36Z</td>\n",
       "      <td>NaN</td>\n",
       "      <td>100083112.0</td>\n",
       "      <td>NaN</td>\n",
       "    </tr>\n",
       "  </tbody>\n",
       "</table>\n",
       "</div>"
      ],
      "text/plain": [
       "   message_id  user_id                                       message_body  \\\n",
       "0   100086000   950453  @SWEETHEART100 being a Debbie downer doesn’t d...   \n",
       "1   100086001   457530  $UAA single digit written all over it.. Kevin ...   \n",
       "2   100086002   629159  @Pbmdk @Tracker7 @SwingTradeToronto problem is...   \n",
       "4   100086004   560905    @MARKET_ONLY_GOES_UP 10000 by end of the decade   \n",
       "6   100086006  1157990  @esan1 @Market_is_in_the_bubble If someone did...   \n",
       "\n",
       "             created_at sentiment  parent_message_id symbol  \n",
       "0  2017-11-03T16:06:33Z       NaN        100071614.0    NaN  \n",
       "1  2017-11-03T16:06:33Z       NaN        100086001.0  [UAA]  \n",
       "2  2017-11-03T16:06:34Z       NaN        100075638.0    NaN  \n",
       "4  2017-11-03T16:06:34Z       NaN        100083405.0    NaN  \n",
       "6  2017-11-03T16:06:36Z       NaN        100083112.0    NaN  "
      ]
     },
     "execution_count": 60,
     "metadata": {},
     "output_type": "execute_result"
    }
   ],
   "source": [
    "sub.head()"
   ]
  },
  {
   "cell_type": "code",
   "execution_count": 61,
   "metadata": {},
   "outputs": [
    {
     "data": {
      "text/plain": [
       "{'Bearish', 'Bullish', nan}"
      ]
     },
     "execution_count": 61,
     "metadata": {},
     "output_type": "execute_result"
    }
   ],
   "source": [
    "{i for i in sub['sentiment']}"
   ]
  },
  {
   "cell_type": "code",
   "execution_count": null,
   "metadata": {},
   "outputs": [],
   "source": []
  }
 ],
 "metadata": {
  "kernelspec": {
   "display_name": "Python 3",
   "language": "python",
   "name": "python3"
  },
  "language_info": {
   "codemirror_mode": {
    "name": "ipython",
    "version": 3
   },
   "file_extension": ".py",
   "mimetype": "text/x-python",
   "name": "python",
   "nbconvert_exporter": "python",
   "pygments_lexer": "ipython3",
   "version": "3.9.1"
  },
  "orig_nbformat": 4
 },
 "nbformat": 4,
 "nbformat_minor": 2
}
