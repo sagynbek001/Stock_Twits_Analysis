{
 "cells": [
  {
   "cell_type": "code",
   "execution_count": 71,
   "metadata": {},
   "outputs": [],
   "source": [
    "import pandas as pd\n",
    "\n",
    "df = pd.read_csv('./Comparisons.csv', sep = \" \")\n",
    "df = df[df['Total_General'] != 0]\n",
    "\n",
    "df['Performance_General'] = df['Correct_General'] / df['Total_General']\n",
    "df['Performance_Weekly'] = df['Correct_Weekly'] / df['Total_Weekly']"
   ]
  },
  {
   "cell_type": "code",
   "execution_count": 72,
   "metadata": {},
   "outputs": [],
   "source": [
    "df = df.sort_values(by='Performance_General', ascending=False)\n",
    "df.to_csv(\"ComparisonsSortedByGeneralPerformance.csv\", index=False)\n",
    "df = df.sort_values(by='Performance_Weekly', ascending=False)\n",
    "df.to_csv(\"ComparisonsSortedByWeeklyPerformance.csv\", index=False)"
   ]
  },
  {
   "cell_type": "code",
   "execution_count": 73,
   "metadata": {},
   "outputs": [],
   "source": [
    "df = df.sort_values(by='Average_General_Error')\n",
    "df.to_csv(\"ComparisonsSortedByAverageGeneralError.csv\", index=False)\n",
    "df = df.sort_values(by='Average_Weekly_Error')\n",
    "df.to_csv(\"ComparisonsSortedByAverageWeeklyError.csv\", index=False)"
   ]
  },
  {
   "cell_type": "code",
   "execution_count": 41,
   "metadata": {},
   "outputs": [],
   "source": [
    "df = pd.read_csv('./Comparisons.csv', sep = \" \")\n",
    "df = df[df['Total_General'] == 0]"
   ]
  },
  {
   "cell_type": "code",
   "execution_count": 43,
   "metadata": {},
   "outputs": [
    {
     "data": {
      "text/plain": [
       "5       GLW\n",
       "10     KLAC\n",
       "11      UNH\n",
       "14      SLB\n",
       "16      AOS\n",
       "       ... \n",
       "496     XOM\n",
       "498     VLO\n",
       "503       F\n",
       "505      MS\n",
       "506     PFE\n",
       "Name: Ticker, Length: 164, dtype: object"
      ]
     },
     "execution_count": 43,
     "metadata": {},
     "output_type": "execute_result"
    }
   ],
   "source": [
    "df['Ticker']"
   ]
  },
  {
   "cell_type": "code",
   "execution_count": 49,
   "metadata": {},
   "outputs": [],
   "source": [
    "import os\n",
    "\n",
    "for ticker in df['Ticker']:\n",
    "  if os.path.exists('./Predictions/' + ticker + '.csv'):\n",
    "    os.remove('./Predictions/' + ticker + '.csv')"
   ]
  },
  {
   "cell_type": "code",
   "execution_count": 54,
   "metadata": {},
   "outputs": [],
   "source": [
    "apple_df = pd.read_csv('./Analysis/AAPL.csv', sep = \",\")\n",
    "errors_of_apple = list(apple_df['error_general'])"
   ]
  },
  {
   "cell_type": "code",
   "execution_count": 58,
   "metadata": {},
   "outputs": [
    {
     "data": {
      "text/plain": [
       "0.16077430648879473"
      ]
     },
     "execution_count": 58,
     "metadata": {},
     "output_type": "execute_result"
    }
   ],
   "source": [
    "sum(errors_of_apple) / len(errors_of_apple)"
   ]
  },
  {
   "cell_type": "code",
   "execution_count": 62,
   "metadata": {},
   "outputs": [
    {
     "data": {
      "text/plain": [
       "11"
      ]
     },
     "execution_count": 62,
     "metadata": {},
     "output_type": "execute_result"
    }
   ],
   "source": [
    "final_preds = []\n",
    "for rowNumber in range(len(apple_df)):\n",
    "  currentRow = apple_df.iloc[rowNumber].tolist()\n",
    "  final_preds.append(currentRow)\n",
    "len(final_preds[0])\n"
   ]
  },
  {
   "cell_type": "code",
   "execution_count": 64,
   "metadata": {},
   "outputs": [
    {
     "data": {
      "text/html": [
       "<div>\n",
       "<style scoped>\n",
       "    .dataframe tbody tr th:only-of-type {\n",
       "        vertical-align: middle;\n",
       "    }\n",
       "\n",
       "    .dataframe tbody tr th {\n",
       "        vertical-align: top;\n",
       "    }\n",
       "\n",
       "    .dataframe thead th {\n",
       "        text-align: right;\n",
       "    }\n",
       "</style>\n",
       "<table border=\"1\" class=\"dataframe\">\n",
       "  <thead>\n",
       "    <tr style=\"text-align: right;\">\n",
       "      <th></th>\n",
       "      <th>week</th>\n",
       "      <th>price</th>\n",
       "      <th>prediction</th>\n",
       "      <th>posts</th>\n",
       "      <th>absolute_diff</th>\n",
       "      <th>market_change</th>\n",
       "      <th>prediction_change</th>\n",
       "      <th>error_general</th>\n",
       "      <th>market_weekly_change</th>\n",
       "      <th>prediction_weekly_change</th>\n",
       "      <th>error_weekly</th>\n",
       "    </tr>\n",
       "  </thead>\n",
       "  <tbody>\n",
       "    <tr>\n",
       "      <th>0</th>\n",
       "      <td>261</td>\n",
       "      <td>192.803986</td>\n",
       "      <td>184.011953</td>\n",
       "      <td>64654</td>\n",
       "      <td>8.792032</td>\n",
       "      <td>0.000000</td>\n",
       "      <td>0.000000</td>\n",
       "      <td>0.000000</td>\n",
       "      <td>0.000000</td>\n",
       "      <td>0.000000</td>\n",
       "      <td>0.000000</td>\n",
       "    </tr>\n",
       "    <tr>\n",
       "      <th>1</th>\n",
       "      <td>262</td>\n",
       "      <td>185.403412</td>\n",
       "      <td>229.862851</td>\n",
       "      <td>64652</td>\n",
       "      <td>44.459439</td>\n",
       "      <td>-0.038384</td>\n",
       "      <td>0.249173</td>\n",
       "      <td>0.287557</td>\n",
       "      <td>-0.038384</td>\n",
       "      <td>0.249173</td>\n",
       "      <td>0.287557</td>\n",
       "    </tr>\n",
       "    <tr>\n",
       "      <th>2</th>\n",
       "      <td>263</td>\n",
       "      <td>184.904053</td>\n",
       "      <td>185.495690</td>\n",
       "      <td>63711</td>\n",
       "      <td>0.591637</td>\n",
       "      <td>-0.040974</td>\n",
       "      <td>0.008063</td>\n",
       "      <td>0.049037</td>\n",
       "      <td>-0.002693</td>\n",
       "      <td>-0.193016</td>\n",
       "      <td>0.190322</td>\n",
       "    </tr>\n",
       "    <tr>\n",
       "      <th>3</th>\n",
       "      <td>264</td>\n",
       "      <td>183.395981</td>\n",
       "      <td>187.448455</td>\n",
       "      <td>57120</td>\n",
       "      <td>4.052474</td>\n",
       "      <td>-0.048796</td>\n",
       "      <td>0.018675</td>\n",
       "      <td>0.067471</td>\n",
       "      <td>-0.008156</td>\n",
       "      <td>0.010527</td>\n",
       "      <td>0.018683</td>\n",
       "    </tr>\n",
       "    <tr>\n",
       "      <th>4</th>\n",
       "      <td>265</td>\n",
       "      <td>194.931259</td>\n",
       "      <td>188.288721</td>\n",
       "      <td>55198</td>\n",
       "      <td>6.642539</td>\n",
       "      <td>0.011033</td>\n",
       "      <td>0.023242</td>\n",
       "      <td>0.012208</td>\n",
       "      <td>0.062898</td>\n",
       "      <td>0.004483</td>\n",
       "      <td>0.058416</td>\n",
       "    </tr>\n",
       "  </tbody>\n",
       "</table>\n",
       "</div>"
      ],
      "text/plain": [
       "   week       price  prediction  posts  absolute_diff  market_change   \n",
       "0   261  192.803986  184.011953  64654       8.792032       0.000000  \\\n",
       "1   262  185.403412  229.862851  64652      44.459439      -0.038384   \n",
       "2   263  184.904053  185.495690  63711       0.591637      -0.040974   \n",
       "3   264  183.395981  187.448455  57120       4.052474      -0.048796   \n",
       "4   265  194.931259  188.288721  55198       6.642539       0.011033   \n",
       "\n",
       "   prediction_change  error_general  market_weekly_change   \n",
       "0           0.000000       0.000000              0.000000  \\\n",
       "1           0.249173       0.287557             -0.038384   \n",
       "2           0.008063       0.049037             -0.002693   \n",
       "3           0.018675       0.067471             -0.008156   \n",
       "4           0.023242       0.012208              0.062898   \n",
       "\n",
       "   prediction_weekly_change  error_weekly  \n",
       "0                  0.000000      0.000000  \n",
       "1                  0.249173      0.287557  \n",
       "2                 -0.193016      0.190322  \n",
       "3                  0.010527      0.018683  \n",
       "4                  0.004483      0.058416  "
      ]
     },
     "execution_count": 64,
     "metadata": {},
     "output_type": "execute_result"
    }
   ],
   "source": [
    "apple_df.head()"
   ]
  },
  {
   "cell_type": "code",
   "execution_count": 70,
   "metadata": {},
   "outputs": [
    {
     "name": "stdout",
     "output_type": "stream",
     "text": [
      "AAPL 3 24 14 24 0.09156953939711504 0.033141365171414826\n",
      "25\n"
     ]
    }
   ],
   "source": [
    "accuracyScoreGeneral = [0, 0]\n",
    "accuracyScoreWeekly = [0, 0]\n",
    "averageGeneralAbsoluteError = [0, 0]\n",
    "averageWeeklyAbsoluteError = [0, 0]\n",
    "counter = 0\n",
    "for i in range(len(apple_df)):\n",
    "  if final_preds[i][1] == -1 or final_preds[i][2] == 0.0 or final_preds[i][3] == 0:\n",
    "    continue\n",
    "  if final_preds[i][5] != 0 and final_preds[i][6] != 0:\n",
    "    if final_preds[i][5] * final_preds[i][6] > 0:\n",
    "      accuracyScoreGeneral[0] += 1\n",
    "      averageGeneralAbsoluteError[0] += final_preds[i][7]\n",
    "      averageGeneralAbsoluteError[1] += 1\n",
    "    accuracyScoreGeneral[1] += 1\n",
    "  if  final_preds[i][8] != 0 and final_preds[i][9] != 0:\n",
    "    if final_preds[i][8] * final_preds[i][9] > 0:\n",
    "      accuracyScoreWeekly[0] += 1\n",
    "      averageWeeklyAbsoluteError[0] += final_preds[i][10]\n",
    "      averageWeeklyAbsoluteError[1] += 1\n",
    "    accuracyScoreWeekly[1] += 1\n",
    "  counter += 1\n",
    "averageGeneralAbsoluteError[0] = averageGeneralAbsoluteError[0] / averageGeneralAbsoluteError[1] if averageGeneralAbsoluteError[1] != 0 else 0\n",
    "averageWeeklyAbsoluteError[0] = averageWeeklyAbsoluteError[0] / averageWeeklyAbsoluteError[1] if averageWeeklyAbsoluteError[1] != 0 else 0\n",
    "\n",
    "print('AAPL', accuracyScoreGeneral[0], accuracyScoreGeneral[1], accuracyScoreWeekly[0], accuracyScoreWeekly[1], averageGeneralAbsoluteError[0], averageWeeklyAbsoluteError[0])\n",
    "print(counter)"
   ]
  },
  {
   "cell_type": "code",
   "execution_count": 20,
   "metadata": {},
   "outputs": [],
   "source": [
    "import pandas as pd\n",
    "\n",
    "rDF = pd.read_csv('./SimulationResults.csv', sep = \" \")\n",
    "rDF = rDF[rDF['Profit_Weekly'] != 0]\n",
    "rDF = rDF[rDF['Profit_General'] != 0]"
   ]
  },
  {
   "cell_type": "code",
   "execution_count": 26,
   "metadata": {},
   "outputs": [
    {
     "data": {
      "text/html": [
       "<div>\n",
       "<style scoped>\n",
       "    .dataframe tbody tr th:only-of-type {\n",
       "        vertical-align: middle;\n",
       "    }\n",
       "\n",
       "    .dataframe tbody tr th {\n",
       "        vertical-align: top;\n",
       "    }\n",
       "\n",
       "    .dataframe thead th {\n",
       "        text-align: right;\n",
       "    }\n",
       "</style>\n",
       "<table border=\"1\" class=\"dataframe\">\n",
       "  <thead>\n",
       "    <tr style=\"text-align: right;\">\n",
       "      <th></th>\n",
       "      <th>Ticker</th>\n",
       "      <th>Profit_Weekly</th>\n",
       "      <th>Profit_General</th>\n",
       "      <th>Weeks_Simulated</th>\n",
       "      <th>Initial_Price</th>\n",
       "      <th>Initial_Investment</th>\n",
       "    </tr>\n",
       "  </thead>\n",
       "  <tbody>\n",
       "    <tr>\n",
       "      <th>0</th>\n",
       "      <td>WMB</td>\n",
       "      <td>92.193489</td>\n",
       "      <td>18.213707</td>\n",
       "      <td>25</td>\n",
       "      <td>34.265820</td>\n",
       "      <td>342.658195</td>\n",
       "    </tr>\n",
       "    <tr>\n",
       "      <th>1</th>\n",
       "      <td>CDNS</td>\n",
       "      <td>288.619965</td>\n",
       "      <td>553.799957</td>\n",
       "      <td>25</td>\n",
       "      <td>274.959991</td>\n",
       "      <td>2749.599915</td>\n",
       "    </tr>\n",
       "    <tr>\n",
       "      <th>2</th>\n",
       "      <td>DIS</td>\n",
       "      <td>120.350052</td>\n",
       "      <td>173.210037</td>\n",
       "      <td>25</td>\n",
       "      <td>90.949997</td>\n",
       "      <td>909.499969</td>\n",
       "    </tr>\n",
       "    <tr>\n",
       "      <th>3</th>\n",
       "      <td>PGR</td>\n",
       "      <td>649.457581</td>\n",
       "      <td>254.534088</td>\n",
       "      <td>25</td>\n",
       "      <td>156.518051</td>\n",
       "      <td>1565.180511</td>\n",
       "    </tr>\n",
       "    <tr>\n",
       "      <th>4</th>\n",
       "      <td>REG</td>\n",
       "      <td>-53.794659</td>\n",
       "      <td>-41.462856</td>\n",
       "      <td>25</td>\n",
       "      <td>65.748070</td>\n",
       "      <td>657.480698</td>\n",
       "    </tr>\n",
       "  </tbody>\n",
       "</table>\n",
       "</div>"
      ],
      "text/plain": [
       "  Ticker  Profit_Weekly  Profit_General  Weeks_Simulated  Initial_Price   \n",
       "0    WMB      92.193489       18.213707               25      34.265820  \\\n",
       "1   CDNS     288.619965      553.799957               25     274.959991   \n",
       "2    DIS     120.350052      173.210037               25      90.949997   \n",
       "3    PGR     649.457581      254.534088               25     156.518051   \n",
       "4    REG     -53.794659      -41.462856               25      65.748070   \n",
       "\n",
       "   Initial_Investment  \n",
       "0          342.658195  \n",
       "1         2749.599915  \n",
       "2          909.499969  \n",
       "3         1565.180511  \n",
       "4          657.480698  "
      ]
     },
     "execution_count": 26,
     "metadata": {},
     "output_type": "execute_result"
    }
   ],
   "source": [
    "initialPrices = []\n",
    "initialInvestments = []\n",
    "for i in range(len(rDF)):\n",
    "  tickerName = rDF.iloc[i][0]\n",
    "  tickerDF = pd.read_csv('./Analysis/' + tickerName + '.csv')\n",
    "  initialPrices.append(tickerDF.iloc[0]['price'])\n",
    "  initialInvestments.append(tickerDF.iloc[0]['price'] * 10)\n",
    "rDF['Initial_Price'] = initialPrices\n",
    "rDF['Initial_Investment'] = initialInvestments\n",
    "rDF.head()"
   ]
  },
  {
   "cell_type": "code",
   "execution_count": 37,
   "metadata": {},
   "outputs": [
    {
     "data": {
      "text/html": [
       "<div>\n",
       "<style scoped>\n",
       "    .dataframe tbody tr th:only-of-type {\n",
       "        vertical-align: middle;\n",
       "    }\n",
       "\n",
       "    .dataframe tbody tr th {\n",
       "        vertical-align: top;\n",
       "    }\n",
       "\n",
       "    .dataframe thead th {\n",
       "        text-align: right;\n",
       "    }\n",
       "</style>\n",
       "<table border=\"1\" class=\"dataframe\">\n",
       "  <thead>\n",
       "    <tr style=\"text-align: right;\">\n",
       "      <th></th>\n",
       "      <th>Ticker</th>\n",
       "      <th>Profit_Weekly</th>\n",
       "      <th>Profit_General</th>\n",
       "      <th>Weeks_Simulated</th>\n",
       "      <th>Initial_Price</th>\n",
       "      <th>Initial_Investment</th>\n",
       "      <th>Profit_Weekly_Percentage</th>\n",
       "      <th>Profit_General_Percentage</th>\n",
       "    </tr>\n",
       "  </thead>\n",
       "  <tbody>\n",
       "    <tr>\n",
       "      <th>243</th>\n",
       "      <td>BTC-USD</td>\n",
       "      <td>310679.867188</td>\n",
       "      <td>231746.296875</td>\n",
       "      <td>25</td>\n",
       "      <td>42520.402344</td>\n",
       "      <td>425204.023438</td>\n",
       "      <td>73.066069</td>\n",
       "      <td>54.502376</td>\n",
       "    </tr>\n",
       "    <tr>\n",
       "      <th>111</th>\n",
       "      <td>NVR</td>\n",
       "      <td>4321.598633</td>\n",
       "      <td>7026.368164</td>\n",
       "      <td>25</td>\n",
       "      <td>7008.200195</td>\n",
       "      <td>70082.001953</td>\n",
       "      <td>6.166489</td>\n",
       "      <td>10.025924</td>\n",
       "    </tr>\n",
       "    <tr>\n",
       "      <th>130</th>\n",
       "      <td>TDG</td>\n",
       "      <td>4074.760437</td>\n",
       "      <td>2288.030334</td>\n",
       "      <td>25</td>\n",
       "      <td>1008.969971</td>\n",
       "      <td>10089.699707</td>\n",
       "      <td>40.385349</td>\n",
       "      <td>22.676892</td>\n",
       "    </tr>\n",
       "    <tr>\n",
       "      <th>124</th>\n",
       "      <td>NFLX</td>\n",
       "      <td>2866.749603</td>\n",
       "      <td>1854.929962</td>\n",
       "      <td>25</td>\n",
       "      <td>491.190002</td>\n",
       "      <td>4911.900024</td>\n",
       "      <td>58.363354</td>\n",
       "      <td>37.764001</td>\n",
       "    </tr>\n",
       "    <tr>\n",
       "      <th>205</th>\n",
       "      <td>MPWR</td>\n",
       "      <td>2565.227173</td>\n",
       "      <td>1614.360352</td>\n",
       "      <td>25</td>\n",
       "      <td>634.846313</td>\n",
       "      <td>6348.463135</td>\n",
       "      <td>40.407058</td>\n",
       "      <td>25.429152</td>\n",
       "    </tr>\n",
       "  </tbody>\n",
       "</table>\n",
       "</div>"
      ],
      "text/plain": [
       "      Ticker  Profit_Weekly  Profit_General  Weeks_Simulated  Initial_Price   \n",
       "243  BTC-USD  310679.867188   231746.296875               25   42520.402344  \\\n",
       "111      NVR    4321.598633     7026.368164               25    7008.200195   \n",
       "130      TDG    4074.760437     2288.030334               25    1008.969971   \n",
       "124     NFLX    2866.749603     1854.929962               25     491.190002   \n",
       "205     MPWR    2565.227173     1614.360352               25     634.846313   \n",
       "\n",
       "     Initial_Investment  Profit_Weekly_Percentage  Profit_General_Percentage  \n",
       "243       425204.023438                 73.066069                  54.502376  \n",
       "111        70082.001953                  6.166489                  10.025924  \n",
       "130        10089.699707                 40.385349                  22.676892  \n",
       "124         4911.900024                 58.363354                  37.764001  \n",
       "205         6348.463135                 40.407058                  25.429152  "
      ]
     },
     "execution_count": 37,
     "metadata": {},
     "output_type": "execute_result"
    }
   ],
   "source": [
    "profit_weekly_perc = []\n",
    "profit_general_perc = []\n",
    "for i in range(len(rDF)):\n",
    "  initialInvestment = rDF.iloc[i][5]\n",
    "  profit_weekly = rDF.iloc[i][1]\n",
    "  profit_general = rDF.iloc[i][2]\n",
    "  profit_weekly_perc.append(profit_weekly / initialInvestment * 100)\n",
    "  profit_general_perc.append(profit_general / initialInvestment * 100)\n",
    "rDF['Profit_Weekly_Percentage'] = profit_weekly_perc\n",
    "rDF['Profit_General_Percentage'] = profit_general_perc\n",
    "rDF.head()"
   ]
  },
  {
   "cell_type": "code",
   "execution_count": 49,
   "metadata": {},
   "outputs": [
    {
     "name": "stdout",
     "output_type": "stream",
     "text": [
      "58.62247577507269\n",
      "55.563746591132826\n"
     ]
    }
   ],
   "source": [
    "rDF = rDF.sort_values(by='Profit_General', ascending=False)\n",
    "rDF.to_csv(\"ResultsSortedByProfitInSimulationBasedOnGeneralPrediction.csv\", index=False)\n",
    "rDF = rDF.sort_values(by='Profit_Weekly', ascending=False)\n",
    "rDF.to_csv(\"ResultsSortedByProfitInSimulationBasedOnWeeklyPrediction.csv\", index=False)\n",
    "rDF = rDF.sort_values(by='Profit_General_Percentage', ascending=False)\n",
    "rDF.to_csv(\"ResultsSortedByPercentageProfitInSimulationBasedOnGeneralPrediction.csv\", index=False)\n",
    "\n",
    "ss = 0\n",
    "for i in range(20):\n",
    "  ss += rDF.iloc[i][7]\n",
    "print(ss/20)\n",
    "\n",
    "rDF = rDF.sort_values(by='Profit_Weekly_Percentage', ascending=False)\n",
    "rDF.to_csv(\"ResultsSortedByPercentageProfitInSimulationBasedOnWeeklyPrediction.csv\", index=False)\n",
    "\n",
    "ss = 0\n",
    "for i in range(20):\n",
    "  ss += rDF.iloc[i][6]\n",
    "print(ss/20)"
   ]
  },
  {
   "cell_type": "code",
   "execution_count": null,
   "metadata": {},
   "outputs": [],
   "source": [
    "weekly_percs = rDF['Profit_Weekly_Percentage'].get\n",
    "weekly_percs.sort()\n",
    "print(weekly_percs)\n"
   ]
  }
 ],
 "metadata": {
  "kernelspec": {
   "display_name": "Python 3",
   "language": "python",
   "name": "python3"
  },
  "language_info": {
   "codemirror_mode": {
    "name": "ipython",
    "version": 3
   },
   "file_extension": ".py",
   "mimetype": "text/x-python",
   "name": "python",
   "nbconvert_exporter": "python",
   "pygments_lexer": "ipython3",
   "version": "3.9.6"
  }
 },
 "nbformat": 4,
 "nbformat_minor": 2
}
