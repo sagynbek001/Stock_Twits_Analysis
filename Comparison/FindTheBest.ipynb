{
 "cells": [
  {
   "cell_type": "code",
   "execution_count": null,
   "metadata": {},
   "outputs": [],
   "source": [
    "import pandas as pd\n",
    "\n",
    "# Reading and clearing the comparisons CSV\n",
    "df = pd.read_csv('./Comparisons.csv', sep = \" \")\n",
    "df = df[df['Total_General'] != 0]\n",
    "\n",
    "df['Performance_General'] = df['Correct_General'] / df['Total_General']\n",
    "df['Performance_Weekly'] = df['Correct_Weekly'] / df['Total_Weekly']"
   ]
  },
  {
   "cell_type": "code",
   "execution_count": null,
   "metadata": {},
   "outputs": [],
   "source": [
    "# Sorting and storing the comparisons CSV\n",
    "df = df.sort_values(by='Performance_General', ascending=False)\n",
    "df.to_csv(\"ComparisonsSortedByGeneralPerformance.csv\", index=False)\n",
    "df = df.sort_values(by='Performance_Weekly', ascending=False)\n",
    "df.to_csv(\"ComparisonsSortedByWeeklyPerformance.csv\", index=False)\n",
    "\n",
    "df = df.sort_values(by='Average_General_Error')\n",
    "df.to_csv(\"ComparisonsSortedByAverageGeneralError.csv\", index=False)\n",
    "df = df.sort_values(by='Average_Weekly_Error')\n",
    "df.to_csv(\"ComparisonsSortedByAverageWeeklyError.csv\", index=False)"
   ]
  },
  {
   "cell_type": "code",
   "execution_count": null,
   "metadata": {},
   "outputs": [],
   "source": [
    "import os\n",
    "\n",
    "for ticker in df['Ticker']:\n",
    "  if os.path.exists('./Predictions/' + ticker + '.csv'):\n",
    "    os.remove('./Predictions/' + ticker + '.csv')"
   ]
  },
  {
   "cell_type": "code",
   "execution_count": null,
   "metadata": {},
   "outputs": [],
   "source": [
    "apple_df = pd.read_csv('./Analysis/AAPL.csv', sep = \",\")\n",
    "errors_of_apple = list(apple_df['error_general'])"
   ]
  },
  {
   "cell_type": "code",
   "execution_count": null,
   "metadata": {},
   "outputs": [],
   "source": [
    "final_preds = []\n",
    "for rowNumber in range(len(apple_df)):\n",
    "  currentRow = apple_df.iloc[rowNumber].tolist()\n",
    "  final_preds.append(currentRow)\n",
    "len(final_preds[0])\n",
    "\n",
    "accuracyScoreGeneral = [0, 0]\n",
    "accuracyScoreWeekly = [0, 0]\n",
    "averageGeneralAbsoluteError = [0, 0]\n",
    "averageWeeklyAbsoluteError = [0, 0]\n",
    "counter = 0\n",
    "for i in range(len(apple_df)):\n",
    "  if final_preds[i][1] == -1 or final_preds[i][2] == 0.0 or final_preds[i][3] == 0:\n",
    "    continue\n",
    "  if final_preds[i][5] != 0 and final_preds[i][6] != 0:\n",
    "    if final_preds[i][5] * final_preds[i][6] > 0:\n",
    "      accuracyScoreGeneral[0] += 1\n",
    "      averageGeneralAbsoluteError[0] += final_preds[i][7]\n",
    "      averageGeneralAbsoluteError[1] += 1\n",
    "    accuracyScoreGeneral[1] += 1\n",
    "  if  final_preds[i][8] != 0 and final_preds[i][9] != 0:\n",
    "    if final_preds[i][8] * final_preds[i][9] > 0:\n",
    "      accuracyScoreWeekly[0] += 1\n",
    "      averageWeeklyAbsoluteError[0] += final_preds[i][10]\n",
    "      averageWeeklyAbsoluteError[1] += 1\n",
    "    accuracyScoreWeekly[1] += 1\n",
    "  counter += 1\n",
    "averageGeneralAbsoluteError[0] = averageGeneralAbsoluteError[0] / averageGeneralAbsoluteError[1] if averageGeneralAbsoluteError[1] != 0 else 0\n",
    "averageWeeklyAbsoluteError[0] = averageWeeklyAbsoluteError[0] / averageWeeklyAbsoluteError[1] if averageWeeklyAbsoluteError[1] != 0 else 0\n",
    "\n",
    "print('AAPL', accuracyScoreGeneral[0], accuracyScoreGeneral[1], accuracyScoreWeekly[0], accuracyScoreWeekly[1], averageGeneralAbsoluteError[0], averageWeeklyAbsoluteError[0])\n",
    "print(counter)"
   ]
  },
  {
   "cell_type": "code",
   "execution_count": null,
   "metadata": {},
   "outputs": [],
   "source": [
    "import pandas as pd\n",
    "\n",
    "rDF = pd.read_csv('./SimulationResults.csv', sep = \" \")\n",
    "rDF = rDF[rDF['Profit_Weekly'] != 0]\n",
    "rDF = rDF[rDF['Profit_General'] != 0]"
   ]
  },
  {
   "cell_type": "code",
   "execution_count": null,
   "metadata": {},
   "outputs": [],
   "source": [
    "initialPrices = []\n",
    "initialInvestments = []\n",
    "for i in range(len(rDF)):\n",
    "  tickerName = rDF.iloc[i][0]\n",
    "  tickerDF = pd.read_csv('./Analysis/' + tickerName + '.csv')\n",
    "  initialPrices.append(tickerDF.iloc[0]['price'])\n",
    "  initialInvestments.append(tickerDF.iloc[0]['price'] * 10)\n",
    "rDF['Initial_Price'] = initialPrices\n",
    "rDF['Initial_Investment'] = initialInvestments\n",
    "rDF.head()"
   ]
  },
  {
   "cell_type": "code",
   "execution_count": null,
   "metadata": {},
   "outputs": [],
   "source": [
    "profit_weekly_perc = []\n",
    "profit_general_perc = []\n",
    "for i in range(len(rDF)):\n",
    "  initialInvestment = rDF.iloc[i][5]\n",
    "  profit_weekly = rDF.iloc[i][1]\n",
    "  profit_general = rDF.iloc[i][2]\n",
    "  profit_weekly_perc.append(profit_weekly / initialInvestment * 100)\n",
    "  profit_general_perc.append(profit_general / initialInvestment * 100)\n",
    "rDF['Profit_Weekly_Percentage'] = profit_weekly_perc\n",
    "rDF['Profit_General_Percentage'] = profit_general_perc\n",
    "rDF.head()"
   ]
  },
  {
   "cell_type": "code",
   "execution_count": null,
   "metadata": {},
   "outputs": [],
   "source": [
    "rDF = rDF.sort_values(by='Profit_General', ascending=False)\n",
    "rDF.to_csv(\"ResultsSortedByProfitInSimulationBasedOnGeneralPrediction.csv\", index=False)\n",
    "rDF = rDF.sort_values(by='Profit_Weekly', ascending=False)\n",
    "rDF.to_csv(\"ResultsSortedByProfitInSimulationBasedOnWeeklyPrediction.csv\", index=False)\n",
    "rDF = rDF.sort_values(by='Profit_General_Percentage', ascending=False)\n",
    "rDF.to_csv(\"ResultsSortedByPercentageProfitInSimulationBasedOnGeneralPrediction.csv\", index=False)\n",
    "\n",
    "ss = 0\n",
    "for i in range(20):\n",
    "  ss += rDF.iloc[i][7]\n",
    "print(ss/20)\n",
    "\n",
    "rDF = rDF.sort_values(by='Profit_Weekly_Percentage', ascending=False)\n",
    "rDF.to_csv(\"ResultsSortedByPercentageProfitInSimulationBasedOnWeeklyPrediction.csv\", index=False)\n",
    "\n",
    "ss = 0\n",
    "for i in range(20):\n",
    "  ss += rDF.iloc[i][6]\n",
    "print(ss/20)"
   ]
  },
  {
   "cell_type": "code",
   "execution_count": null,
   "metadata": {},
   "outputs": [],
   "source": [
    "weekly_percs = rDF['Profit_Weekly_Percentage'].get\n",
    "weekly_percs.sort()\n",
    "print(weekly_percs)\n"
   ]
  }
 ],
 "metadata": {
  "kernelspec": {
   "display_name": "Python 3",
   "language": "python",
   "name": "python3"
  },
  "language_info": {
   "codemirror_mode": {
    "name": "ipython",
    "version": 3
   },
   "file_extension": ".py",
   "mimetype": "text/x-python",
   "name": "python",
   "nbconvert_exporter": "python",
   "pygments_lexer": "ipython3",
   "version": "3.9.6"
  }
 },
 "nbformat": 4,
 "nbformat_minor": 2
}
